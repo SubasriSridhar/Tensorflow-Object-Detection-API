{
 "cells": [
  {
   "cell_type": "markdown",
   "metadata": {},
   "source": [
    "# Scrape image from google"
   ]
  },
  {
   "cell_type": "markdown",
   "metadata": {},
   "source": [
    "This script opens the image results page of google using Selenium and finds the images using the XPATH value of class 'rg-meta' and finds the JSON value. Then extracts \"ou\" index of the JSON and \"ily\" index of JSON for the url and image type"
   ]
  },
  {
   "cell_type": "code",
   "execution_count": null,
   "metadata": {},
   "outputs": [],
   "source": [
    "from selenium import webdriver\n",
    "from selenium.webdriver.common.keys import Keys\n",
    "import json\n",
    "import os\n",
    "import urllib\n",
    "import argparse\n",
    "import uuid\n",
    "import sys\n",
    "import urllib.request\n",
    "from urllib.request import urlopen, Request\n",
    "\n",
    "REQUEST_HEADER = {\n",
    "    'User-Agent': \"Mozilla/5.0 (Windows NT 6.1; WOW64) AppleWebKit/537.36 (KHTML, like Gecko) Chrome/43.0.2357.134 Safari/537.36\"}\n",
    "\n",
    "#below is the search term you want to search on google images\n",
    "\n",
    "searchterm = 'Formula1'\n",
    "url = \"https://www.google.co.in/search?q=\"+searchterm+\"&source=lnms&tbm=isch\"\n",
    "\n",
    "chrome_options = webdriver.ChromeOptions()\n",
    "chrome_options.add_argument('--no-sandbox')\n",
    "browser = webdriver.Chrome(executable_path=\"C:\\Tensorflow1\\chromedriver.exe\", chrome_options=chrome_options)\n",
    "browser.get(url)\n",
    "header={'User-Agent':\"Chrome/76.0.3809.36\"}\n",
    "counter = 0\n",
    "succounter = 0\n",
    "\n",
    "if not os.path.exists(searchterm):\n",
    "    os.mkdir(searchterm)\n",
    "\n",
    "for _ in range(500):\n",
    "    browser.execute_script(\"window.scrollBy(0,10000)\")\n",
    "\n",
    "for x in browser.find_elements_by_xpath('//div[contains(@class,\"rg_meta\")]'):\n",
    "    counter = counter + 1\n",
    "    print(\"Total Count:\", counter)\n",
    "    print(\"Succsessful Count:\", succounter)\n",
    "    print(\"URL:\",json.loads(x.get_attribute('innerHTML'))[\"ou\"])\n",
    "    img = json.loads(x.get_attribute('innerHTML'))[\"ou\"]\n",
    "    imgtype = json.loads(x.get_attribute('innerHTML'))[\"ity\"]\n",
    "    try:\n",
    "        file_name = uuid.uuid4().hex\n",
    "        req = Request(url, headers=REQUEST_HEADER)\n",
    "        proxy_support = urllib.request.ProxyHandler({\"http\": \"http://61.233.25.166:80\"})\n",
    "        opener = urllib.request.build_opener(proxy_support)\n",
    "        urllib.request.install_opener(opener)\n",
    "        resp = urlopen(req)\n",
    "        raw_image=resp.read()\n",
    "        path = os.path.join(\"C:/Users/91979/Downloads/TestDownLoad/dummy\" , file_name + \".\" + imgtype)\n",
    "        urllib.request.urlretrieve(img, path)\n",
    "        succounter = succounter + 1\n",
    "    except:\n",
    "        print(\"can't get img\")\n",
    "\n",
    "print(succounter, \"pictures succesfully downloaded\")\n",
    "browser.close()"
   ]
  },
  {
   "cell_type": "code",
   "execution_count": null,
   "metadata": {},
   "outputs": [],
   "source": []
  }
 ],
 "metadata": {
  "kernelspec": {
   "display_name": "Python 3",
   "language": "python",
   "name": "python3"
  }
 },
 "nbformat": 4,
 "nbformat_minor": 2
}
